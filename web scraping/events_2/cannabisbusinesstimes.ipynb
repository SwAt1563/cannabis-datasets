{
 "cells": [
  {
   "cell_type": "code",
   "execution_count": 2,
   "metadata": {},
   "outputs": [],
   "source": [
    "from selenium import webdriver\n",
    "from selenium.webdriver.common.by import By\n",
    "\n",
    "import time\n",
    "import json\n"
   ]
  },
  {
   "cell_type": "code",
   "execution_count": 32,
   "metadata": {},
   "outputs": [],
   "source": [
    "driver = webdriver.Chrome()\n",
    "driver.get(\"https://www.cannabisbusinesstimes.com/events/\")\n",
    "time.sleep(2)"
   ]
  },
  {
   "cell_type": "code",
   "execution_count": 37,
   "metadata": {},
   "outputs": [
    {
     "name": "stdout",
     "output_type": "stream",
     "text": [
      "Getting event 1/15\n",
      "Getting event 2/15\n",
      "Getting event 3/15\n",
      "Getting event 4/15\n",
      "Getting event 5/15\n",
      "Getting event 6/15\n",
      "Getting event 7/15\n",
      "Getting event 8/15\n",
      "Getting event 9/15\n",
      "Getting event 10/15\n",
      "Getting event 11/15\n",
      "Getting event 12/15\n",
      "Getting event 13/15\n",
      "Getting event 14/15\n",
      "Getting event 15/15\n"
     ]
    }
   ],
   "source": [
    "\n",
    "contents = []\n",
    "content = driver.find_element(By.CSS_SELECTOR, 'div.content')\n",
    "\n",
    "events = content.find_elements(By.CSS_SELECTOR, 'div.flex-grow-1')\n",
    "\n",
    "for i in range(0, len(events)):\n",
    "    print(f'Getting event {i + 1}/{len(events)}')\n",
    "    event = events[i]\n",
    "    title = event.find_element(By.CSS_SELECTOR, 'h3').text\n",
    "    link = event.find_element(By.CSS_SELECTOR, 'h3 a').get_attribute('href')\n",
    "    date = event.find_element(By.CSS_SELECTOR, 'p').text\n",
    "    location = event.find_element(By.CSS_SELECTOR, 'p:nth-of-type(2)').text\n",
    "\n",
    "    contents.append({\n",
    "        'title': title,\n",
    "        'link': link,\n",
    "        'date': date,\n",
    "        'location': location\n",
    "    })\n",
    "\n",
    "\n",
    "\n",
    "\n",
    "    "
   ]
  },
  {
   "cell_type": "code",
   "execution_count": 38,
   "metadata": {},
   "outputs": [],
   "source": [
    "# Save the results to a JSON file\n",
    "with open('events.json', 'w') as file:\n",
    "    json.dump(contents, file, indent=4)"
   ]
  },
  {
   "cell_type": "code",
   "execution_count": 31,
   "metadata": {},
   "outputs": [],
   "source": [
    "# Cleanup\n",
    "driver.quit()"
   ]
  }
 ],
 "metadata": {
  "kernelspec": {
   "display_name": "Python 3",
   "language": "python",
   "name": "python3"
  },
  "language_info": {
   "codemirror_mode": {
    "name": "ipython",
    "version": 3
   },
   "file_extension": ".py",
   "mimetype": "text/x-python",
   "name": "python",
   "nbconvert_exporter": "python",
   "pygments_lexer": "ipython3",
   "version": "3.12.3"
  }
 },
 "nbformat": 4,
 "nbformat_minor": 2
}
