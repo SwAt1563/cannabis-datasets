{
 "cells": [
  {
   "cell_type": "code",
   "execution_count": 2,
   "metadata": {},
   "outputs": [],
   "source": [
    "from selenium import webdriver\n",
    "from selenium.webdriver.common.by import By\n",
    "\n",
    "import time\n",
    "import json\n"
   ]
  },
  {
   "cell_type": "code",
   "execution_count": 132,
   "metadata": {},
   "outputs": [],
   "source": [
    "driver = webdriver.Chrome()\n",
    "driver.get(\"https://cwcbexpo.com/blog/\")\n",
    "time.sleep(2)"
   ]
  },
  {
   "cell_type": "code",
   "execution_count": 133,
   "metadata": {},
   "outputs": [],
   "source": [
    "def get_next_button(driver):\n",
    "    try:\n",
    "        return driver.find_element(By.CSS_SELECTOR, \"a.next\")\n",
    "    except:\n",
    "        return None"
   ]
  },
  {
   "cell_type": "code",
   "execution_count": 134,
   "metadata": {},
   "outputs": [],
   "source": [
    "urls = []"
   ]
  },
  {
   "cell_type": "code",
   "execution_count": 135,
   "metadata": {},
   "outputs": [],
   "source": [
    "while True:\n",
    "    blogs = driver.find_elements(By.CSS_SELECTOR, \"div.uael-post-wrapper\")\n",
    "    for blog in blogs:\n",
    "        url = blog.find_element(By.CSS_SELECTOR, \"a\").get_attribute(\"href\")\n",
    "        urls.append(url)\n",
    "    next_button = get_next_button(driver)\n",
    "    if next_button:\n",
    "        next_button.click()\n",
    "        time.sleep(2)\n",
    "    else:\n",
    "        break"
   ]
  },
  {
   "cell_type": "code",
   "execution_count": 136,
   "metadata": {},
   "outputs": [
    {
     "name": "stdout",
     "output_type": "stream",
     "text": [
      "Found 100 urls\n"
     ]
    }
   ],
   "source": [
    "print(f\"Found {len(urls)} urls\")"
   ]
  },
  {
   "cell_type": "code",
   "execution_count": 137,
   "metadata": {},
   "outputs": [
    {
     "name": "stdout",
     "output_type": "stream",
     "text": [
      "['https://cwcbexpo.com/may-2024-national-news/', 'https://cwcbexpo.com/may-2024-regional-cannabis-news/', 'https://cwcbexpo.com/april-2024-regional-news/', 'https://cwcbexpo.com/april-2024-national-news/', 'https://cwcbexpo.com/national-news-march-2024/', 'https://cwcbexpo.com/cannabis-lounges-new-jersey/', 'https://cwcbexpo.com/regional-news-march-2024/', 'https://cwcbexpo.com/10-cannabis-tech-tools-shaping-the-industry/', 'https://cwcbexpo.com/february-2024-national-news/', 'https://cwcbexpo.com/february-2024-regional-news/', 'https://cwcbexpo.com/federal-rescheduling-cannabis/', 'https://cwcbexpo.com/january-2024-regional-news/', 'https://cwcbexpo.com/national-news-january-2024/', 'https://cwcbexpo.com/cannabis-statistics-to-know-2024/', 'https://cwcbexpo.com/nys-farmer-oversupply/', 'https://cwcbexpo.com/unlicensed-dispensaries-nyc/', 'https://cwcbexpo.com/industry-insights/', 'https://cwcbexpo.com/december-2023-regional-news/', 'https://cwcbexpo.com/marketing-alternatives-to-sales-ny/', 'https://cwcbexpo.com/november-2023-national-news/', 'https://cwcbexpo.com/december-2023-national-news/', 'https://cwcbexpo.com/november-2023-regional-news/', 'https://cwcbexpo.com/what-cannabis-retailers-can-learn-from-last-green-wednesday/', 'https://cwcbexpo.com/ohio-legalized-adult-use-cannabis-what-happens-next/', 'https://cwcbexpo.com/cannabis-education-programs/', 'https://cwcbexpo.com/cannabis-cybersecurity/', 'https://cwcbexpo.com/regional-news-october-2023/', 'https://cwcbexpo.com/national-news-october-2023/', 'https://cwcbexpo.com/6-interesting-hemp-products-that-go-beyond-cbd/', 'https://cwcbexpo.com/cannabis-flower-market/', 'https://cwcbexpo.com/cannabis-up-for-vote-2023/', 'https://cwcbexpo.com/solventless-extracts-market/', 'https://cwcbexpo.com/september-2023-federal-news/', 'https://cwcbexpo.com/regional-news-september-2023/', 'https://cwcbexpo.com/caurd-lawsuit/', 'https://cwcbexpo.com/what-youll-learn-cannabis-trade-show/', 'https://cwcbexpo.com/regional-news-august-2023/', 'https://cwcbexpo.com/national-news-august-2023/', 'https://cwcbexpo.com/mastercard-cannabis/', 'https://cwcbexpo.com/sports-and-cannabis/', 'https://cwcbexpo.com/cannabis-beverages/', 'https://cwcbexpo.com/regional-news-july-2023/', 'https://cwcbexpo.com/cannabis-entrepreneur-lessons/', 'https://cwcbexpo.com/july-2023-national-news/', 'https://cwcbexpo.com/federal-news-updates-june-2023/', 'https://cwcbexpo.com/regional-cannabis-news-june-2023/', 'https://cwcbexpo.com/impressive-trade-show-booth/', 'https://cwcbexpo.com/federal-cannabis-news-may-2023/', 'https://cwcbexpo.com/may-2023-regional-cannabis-news/', 'https://cwcbexpo.com/pre-rolls-papers-and-cones/', 'https://cwcbexpo.com/licensed-dispensaries-in-manhattan/', 'https://cwcbexpo.com/cannabis-investing/', 'https://cwcbexpo.com/federal-cannabis-news-april-2023/', 'https://cwcbexpo.com/regional-cannabis-news-april-2023/', 'https://cwcbexpo.com/cannabis-testing-laboratory/', 'https://cwcbexpo.com/cannabis-legislation-2023/', 'https://cwcbexpo.com/regional-news-march-2023/', 'https://cwcbexpo.com/federal-news-march-2023/', 'https://cwcbexpo.com/how-to-make-a-career-in-cannabis/', 'https://cwcbexpo.com/womens-pavilion-expansion/', 'https://cwcbexpo.com/federal-news-february-2023/', 'https://cwcbexpo.com/cannabis-industry-pivot-tips/', 'https://cwcbexpo.com/february-2023-regional-cannabis-news-new-jersey-and-new-york-markets-continue-to-expand/', 'https://cwcbexpo.com/cannabis-packaging-guide/', 'https://cwcbexpo.com/cannabis-facility-security/', 'https://cwcbexpo.com/regional-cannabis-news-jan-2023/', 'https://cwcbexpo.com/federal-news-jan-2023/', 'https://cwcbexpo.com/federal-cannabis-news-dec-2022/', 'https://cwcbexpo.com/regional-cannabis-news-december-2022/', 'https://cwcbexpo.com/what-is-green-wednesday/', 'https://cwcbexpo.com/federal-news-november-2022-election/', 'https://cwcbexpo.com/turnkey-booth/', 'https://cwcbexpo.com/regional-news-november-2022/', 'https://cwcbexpo.com/regulatory-compliance/', 'https://cwcbexpo.com/first-time-cannabis-exhibitor-tips/', 'https://cwcbexpo.com/regional-cannabis-news-october-2022/', 'https://cwcbexpo.com/october-2022-news/', 'https://cwcbexpo.com/cannabis-facility-construction-guide/', 'https://cwcbexpo.com/september-2022-regional-cannabis-news/', 'https://cwcbexpo.com/federal-cannabis-news-september-2022/', 'https://cwcbexpo.com/cannabis-real-estate-guide/', 'https://cwcbexpo.com/cannabis-education/', 'https://cwcbexpo.com/cannabis-business-insurance-guide/', 'https://cwcbexpo.com/federal-news-august-2022/', 'https://cwcbexpo.com/regional-cannabis-news-august-2022/', 'https://cwcbexpo.com/regional-cannabis-news-july-2022/', 'https://cwcbexpo.com/federal-news-update-july-2022/', 'https://cwcbexpo.com/regional-news-june-2022/', 'https://cwcbexpo.com/federal-cannabis-news-june-2022/', 'https://cwcbexpo.com/things-to-do-new-york-city/', 'https://cwcbexpo.com/cannabis-advocacy-norml/', 'https://cwcbexpo.com/regional-news-update-may-2022/', 'https://cwcbexpo.com/federal-news-update-may-2022/', 'https://cwcbexpo.com/federal-cannabis-news-april-2022/', 'https://cwcbexpo.com/regional-cannabis-news-april-2022/', 'https://cwcbexpo.com/hemp-industry-take-flight/', 'https://cwcbexpo.com/federal-news-march-2022/', 'https://cwcbexpo.com/regional-news-march-2022/', 'https://cwcbexpo.com/regional-news-february-2022/', 'https://cwcbexpo.com/cannabis-marketing-guide/']\n"
     ]
    }
   ],
   "source": [
    "print(urls)"
   ]
  },
  {
   "cell_type": "code",
   "execution_count": 138,
   "metadata": {},
   "outputs": [],
   "source": [
    "# Save URLs to a JSON file\n",
    "with open('urls.json', 'w') as file:\n",
    "    json.dump(urls, file, indent=4)"
   ]
  },
  {
   "cell_type": "code",
   "execution_count": 139,
   "metadata": {},
   "outputs": [],
   "source": [
    "driver.quit()"
   ]
  },
  {
   "cell_type": "code",
   "execution_count": 24,
   "metadata": {},
   "outputs": [],
   "source": [
    "# Load URLs from the JSON file\n",
    "with open('urls.json', 'r') as file:\n",
    "    urls = json.load(file)\n"
   ]
  },
  {
   "cell_type": "code",
   "execution_count": 25,
   "metadata": {},
   "outputs": [],
   "source": [
    "def get_page_data(url, driver):\n",
    "    driver.get(url)\n",
    "\n",
    "    # Waiting for the page to load is not necessary due to the extended loading time.\n",
    "    # time.sleep(2)\n",
    "\n",
    "    try:\n",
    "    \n",
    "        header_title = driver.find_element(By.CSS_SELECTOR, 'h1.elementor-heading-title').text\n",
    "        # Alternative: driver.find_element(By.XPATH, '//li[@itemprop=\"author\"]')\n",
    "        author = driver.find_element(By.CSS_SELECTOR, 'li[itemprop=\"author\"]').text\n",
    "        datePublished = driver.find_element(By.CSS_SELECTOR, 'li[itemprop=\"datePublished\"]').text\n",
    "        \n",
    "\n",
    "    except Exception as e:\n",
    "        return None\n",
    "\n",
    "\n",
    "    content_dict = {}\n",
    "    content_dict['title'] = header_title\n",
    "    content_dict['url'] = url\n",
    "    content_dict['author'] = author\n",
    "    content_dict['datePublished'] = datePublished\n",
    "\n",
    "\n",
    "\n",
    "    return content_dict\n",
    "\n",
    "\n",
    "\n",
    "    "
   ]
  },
  {
   "cell_type": "code",
   "execution_count": 26,
   "metadata": {},
   "outputs": [],
   "source": [
    "# Initialize the driver\n",
    "driver = webdriver.Chrome()"
   ]
  },
  {
   "cell_type": "code",
   "execution_count": 27,
   "metadata": {},
   "outputs": [],
   "source": [
    "results = []"
   ]
  },
  {
   "cell_type": "code",
   "execution_count": 28,
   "metadata": {},
   "outputs": [
    {
     "name": "stdout",
     "output_type": "stream",
     "text": [
      "number of urls: 100\n",
      "Processing 0/100\n",
      "Processing 1/100\n",
      "Processing 2/100\n",
      "Processing 3/100\n",
      "Processing 4/100\n",
      "Processing 5/100\n",
      "Processing 6/100\n",
      "Processing 7/100\n",
      "Processing 8/100\n",
      "Processing 9/100\n",
      "Processing 10/100\n",
      "Processing 11/100\n",
      "Processing 12/100\n",
      "Processing 13/100\n",
      "Processing 14/100\n",
      "Processing 15/100\n",
      "Processing 16/100\n",
      "Processing 17/100\n",
      "Processing 18/100\n",
      "Processing 19/100\n",
      "Processing 20/100\n",
      "Processing 21/100\n",
      "Processing 22/100\n",
      "Processing 23/100\n",
      "Processing 24/100\n",
      "Processing 25/100\n",
      "Processing 26/100\n",
      "Processing 27/100\n",
      "Processing 28/100\n",
      "Processing 29/100\n",
      "Processing 30/100\n",
      "Processing 31/100\n",
      "Processing 32/100\n",
      "Processing 33/100\n",
      "Processing 34/100\n",
      "Processing 35/100\n",
      "Processing 36/100\n",
      "Processing 37/100\n",
      "Processing 38/100\n",
      "Processing 39/100\n",
      "Processing 40/100\n",
      "Processing 41/100\n",
      "Processing 42/100\n",
      "Processing 43/100\n",
      "Processing 44/100\n",
      "Processing 45/100\n",
      "Processing 46/100\n",
      "Processing 47/100\n",
      "Processing 48/100\n",
      "Processing 49/100\n",
      "Processing 50/100\n",
      "Processing 51/100\n",
      "Processing 52/100\n",
      "Processing 53/100\n",
      "Processing 54/100\n",
      "Processing 55/100\n",
      "Processing 56/100\n",
      "Processing 57/100\n",
      "Processing 58/100\n",
      "Processing 59/100\n",
      "Processing 60/100\n",
      "Processing 61/100\n",
      "Processing 62/100\n",
      "Processing 63/100\n",
      "Processing 64/100\n",
      "Processing 65/100\n",
      "Processing 66/100\n",
      "Processing 67/100\n",
      "Processing 68/100\n",
      "Processing 69/100\n",
      "Processing 70/100\n",
      "Processing 71/100\n",
      "Processing 72/100\n",
      "Processing 73/100\n",
      "Processing 74/100\n",
      "Processing 75/100\n",
      "Processing 76/100\n",
      "Processing 77/100\n",
      "Processing 78/100\n",
      "Processing 79/100\n",
      "Processing 80/100\n",
      "Processing 81/100\n",
      "Processing 82/100\n",
      "Processing 83/100\n",
      "Processing 84/100\n",
      "Processing 85/100\n",
      "Processing 86/100\n",
      "Processing 87/100\n",
      "Processing 88/100\n",
      "Processing 89/100\n",
      "Processing 90/100\n",
      "Processing 91/100\n",
      "Processing 92/100\n",
      "Processing 93/100\n",
      "Processing 94/100\n",
      "Processing 95/100\n",
      "Processing 96/100\n",
      "Processing 97/100\n",
      "Processing 98/100\n",
      "Processing 99/100\n"
     ]
    }
   ],
   "source": [
    "print(f'number of urls: {len(urls)}')\n",
    "\n",
    "for i in range(0, len(urls)):\n",
    "    print(f\"Processing {i}/{len(urls)}\")\n",
    "    data = get_page_data(urls[i], driver)\n",
    "    results.append(data)"
   ]
  },
  {
   "cell_type": "code",
   "execution_count": 29,
   "metadata": {},
   "outputs": [],
   "source": [
    "results = [item for item in results if item is not None]"
   ]
  },
  {
   "cell_type": "code",
   "execution_count": 30,
   "metadata": {},
   "outputs": [],
   "source": [
    "# Save the results to a JSON file\n",
    "with open('blogs.json', 'w') as file:\n",
    "    json.dump(results, file, indent=4)"
   ]
  },
  {
   "cell_type": "code",
   "execution_count": 31,
   "metadata": {},
   "outputs": [],
   "source": [
    "# Cleanup\n",
    "driver.quit()"
   ]
  }
 ],
 "metadata": {
  "kernelspec": {
   "display_name": "Python 3",
   "language": "python",
   "name": "python3"
  },
  "language_info": {
   "codemirror_mode": {
    "name": "ipython",
    "version": 3
   },
   "file_extension": ".py",
   "mimetype": "text/x-python",
   "name": "python",
   "nbconvert_exporter": "python",
   "pygments_lexer": "ipython3",
   "version": "3.12.3"
  }
 },
 "nbformat": 4,
 "nbformat_minor": 2
}
